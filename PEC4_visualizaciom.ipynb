{
 "cells": [
  {
   "cell_type": "code",
   "execution_count": 1,
   "id": "911a4d9b-a7ad-442a-9a3a-fea0e57897a2",
   "metadata": {},
   "outputs": [],
   "source": [
    "from connection_mimiciv import *"
   ]
  },
  {
   "cell_type": "code",
   "execution_count": 2,
   "id": "202f1079-f874-4b37-87fb-887ebc7e7db6",
   "metadata": {},
   "outputs": [],
   "source": [
    "sql = f\"\"\"\n",
    "    SELECT subject_id, hadm_id, stay_id, los\n",
    "    FROM mimic4.mimiciv_icu.icustays\n",
    "    WHERE first_careunit='Medical Intensive Care Unit (MICU)' AND last_careunit='Medical Intensive Care Unit (MICU)';\n",
    "\"\"\"\n",
    "\n",
    "pats = Connection().data_from_mimic_connection(sql)"
   ]
  },
  {
   "cell_type": "code",
   "execution_count": 3,
   "id": "f91687db-9a67-4151-9382-28746b4db9b6",
   "metadata": {},
   "outputs": [],
   "source": [
    "stay_ids_tuple = tuple(pats['stay_id'].unique())"
   ]
  },
  {
   "cell_type": "code",
   "execution_count": 4,
   "id": "9fc6a54b-d8f3-45d4-befc-44c71b9980b9",
   "metadata": {},
   "outputs": [],
   "source": [
    "sql = f\"\"\"\n",
    "    SELECT \n",
    "        icu.stay_id,\n",
    "        icu.subject_id,\n",
    "        icu.hadm_id,\n",
    "        icu.los,\n",
    "        pat.gender,\n",
    "        pat.anchor_age + EXTRACT(YEAR FROM icu.intime) - pat.anchor_year AS age,\n",
    "        CASE \n",
    "            WHEN adm.deathtime BETWEEN icu.intime AND icu.outtime THEN 1\n",
    "            ELSE 0\n",
    "        END AS icu_expire_flag,\n",
    "        adm.hospital_expire_flag,\n",
    "        adm.discharge_location,\n",
    "        adm.deathtime,\n",
    "        icu.intime,\n",
    "        icu.outtime\n",
    "    FROM mimiciv_icu.icustays icu\n",
    "    JOIN mimiciv_hosp.patients pat ON icu.subject_id = pat.subject_id\n",
    "    JOIN mimiciv_hosp.admissions adm ON icu.hadm_id = adm.hadm_id\n",
    "    WHERE icu.stay_id IN {stay_ids_tuple};\n",
    "\"\"\"\n",
    "demographics = Connection().data_from_mimic_connection(sql)"
   ]
  },
  {
   "cell_type": "code",
   "execution_count": 5,
   "id": "fdb3daef-7cf5-401b-a16e-89151f338231",
   "metadata": {},
   "outputs": [],
   "source": [
    "demographics.loc[demographics['icu_expire_flag'] == 1, 'discharge_location'] = 'DIED IN ICU'\n",
    "demographics = demographics[['gender','age','los','discharge_location']]"
   ]
  },
  {
   "cell_type": "code",
   "execution_count": 6,
   "id": "7dea1c13-6ef6-423b-894f-c00f4373367e",
   "metadata": {},
   "outputs": [],
   "source": [
    "demographics.to_csv('demographics.csv', index=False)"
   ]
  },
  {
   "cell_type": "code",
   "execution_count": 7,
   "id": "de5218b3-ef64-4dde-9104-75dd0fd4b6c0",
   "metadata": {},
   "outputs": [
    {
     "data": {
      "text/html": [
       "<div>\n",
       "<style scoped>\n",
       "    .dataframe tbody tr th:only-of-type {\n",
       "        vertical-align: middle;\n",
       "    }\n",
       "\n",
       "    .dataframe tbody tr th {\n",
       "        vertical-align: top;\n",
       "    }\n",
       "\n",
       "    .dataframe thead th {\n",
       "        text-align: right;\n",
       "    }\n",
       "</style>\n",
       "<table border=\"1\" class=\"dataframe\">\n",
       "  <thead>\n",
       "    <tr style=\"text-align: right;\">\n",
       "      <th></th>\n",
       "      <th>gender</th>\n",
       "      <th>age</th>\n",
       "      <th>los</th>\n",
       "      <th>discharge_location</th>\n",
       "    </tr>\n",
       "  </thead>\n",
       "  <tbody>\n",
       "    <tr>\n",
       "      <th>0</th>\n",
       "      <td>F</td>\n",
       "      <td>63.0</td>\n",
       "      <td>1.677789</td>\n",
       "      <td>DIED</td>\n",
       "    </tr>\n",
       "    <tr>\n",
       "      <th>1</th>\n",
       "      <td>F</td>\n",
       "      <td>36.0</td>\n",
       "      <td>0.955255</td>\n",
       "      <td>HOME</td>\n",
       "    </tr>\n",
       "    <tr>\n",
       "      <th>2</th>\n",
       "      <td>F</td>\n",
       "      <td>69.0</td>\n",
       "      <td>0.980243</td>\n",
       "      <td>HOSPICE</td>\n",
       "    </tr>\n",
       "    <tr>\n",
       "      <th>3</th>\n",
       "      <td>M</td>\n",
       "      <td>77.0</td>\n",
       "      <td>1.990949</td>\n",
       "      <td>SKILLED NURSING FACILITY</td>\n",
       "    </tr>\n",
       "    <tr>\n",
       "      <th>4</th>\n",
       "      <td>M</td>\n",
       "      <td>44.0</td>\n",
       "      <td>0.839572</td>\n",
       "      <td>HOME</td>\n",
       "    </tr>\n",
       "    <tr>\n",
       "      <th>...</th>\n",
       "      <td>...</td>\n",
       "      <td>...</td>\n",
       "      <td>...</td>\n",
       "      <td>...</td>\n",
       "    </tr>\n",
       "    <tr>\n",
       "      <th>15122</th>\n",
       "      <td>F</td>\n",
       "      <td>44.0</td>\n",
       "      <td>0.545775</td>\n",
       "      <td>HOME HEALTH CARE</td>\n",
       "    </tr>\n",
       "    <tr>\n",
       "      <th>15123</th>\n",
       "      <td>M</td>\n",
       "      <td>76.0</td>\n",
       "      <td>1.358472</td>\n",
       "      <td>HOME</td>\n",
       "    </tr>\n",
       "    <tr>\n",
       "      <th>15124</th>\n",
       "      <td>M</td>\n",
       "      <td>60.0</td>\n",
       "      <td>0.970625</td>\n",
       "      <td>HOSPICE</td>\n",
       "    </tr>\n",
       "    <tr>\n",
       "      <th>15125</th>\n",
       "      <td>F</td>\n",
       "      <td>69.0</td>\n",
       "      <td>0.904653</td>\n",
       "      <td>HOME</td>\n",
       "    </tr>\n",
       "    <tr>\n",
       "      <th>15126</th>\n",
       "      <td>M</td>\n",
       "      <td>51.0</td>\n",
       "      <td>0.513727</td>\n",
       "      <td>HOME</td>\n",
       "    </tr>\n",
       "  </tbody>\n",
       "</table>\n",
       "<p>15127 rows × 4 columns</p>\n",
       "</div>"
      ],
      "text/plain": [
       "      gender   age       los        discharge_location\n",
       "0          F  63.0  1.677789                      DIED\n",
       "1          F  36.0  0.955255                      HOME\n",
       "2          F  69.0  0.980243                   HOSPICE\n",
       "3          M  77.0  1.990949  SKILLED NURSING FACILITY\n",
       "4          M  44.0  0.839572                      HOME\n",
       "...      ...   ...       ...                       ...\n",
       "15122      F  44.0  0.545775          HOME HEALTH CARE\n",
       "15123      M  76.0  1.358472                      HOME\n",
       "15124      M  60.0  0.970625                   HOSPICE\n",
       "15125      F  69.0  0.904653                      HOME\n",
       "15126      M  51.0  0.513727                      HOME\n",
       "\n",
       "[15127 rows x 4 columns]"
      ]
     },
     "execution_count": 7,
     "metadata": {},
     "output_type": "execute_result"
    }
   ],
   "source": [
    "demographics"
   ]
  },
  {
   "cell_type": "markdown",
   "id": "9321d820-407d-4445-a04a-cabe10ed9090",
   "metadata": {},
   "source": [
    "#### Esta aparte la realicé en google colab para mejor manejo de la librería sdv"
   ]
  },
  {
   "cell_type": "code",
   "execution_count": null,
   "id": "2ee22204-f981-4050-8458-7a4f53a2284c",
   "metadata": {},
   "outputs": [],
   "source": [
    "pip install sdv"
   ]
  },
  {
   "cell_type": "code",
   "execution_count": null,
   "id": "77544eb8-2040-47c2-bb4b-7c2937157c96",
   "metadata": {},
   "outputs": [],
   "source": [
    "from google.colab import drive\n",
    "drive.mount('/content/drive')\n",
    "import pandas as pd\n",
    "from sdv.single_table import GaussianCopulaSynthesizer\n",
    "from sdv.metadata import SingleTableMetadata\n"
   ]
  },
  {
   "cell_type": "code",
   "execution_count": null,
   "id": "80ddf035-d694-41cc-b705-29c50bd0d74f",
   "metadata": {},
   "outputs": [],
   "source": [
    "df = pd.read_csv('demographics.csv')"
   ]
  },
  {
   "cell_type": "code",
   "execution_count": null,
   "id": "37735619-7155-435b-a454-f3425dc49472",
   "metadata": {},
   "outputs": [],
   "source": [
    "metadata = SingleTableMetadata()\n",
    "metadata.detect_from_dataframe(df)\n",
    "\n",
    "\n",
    "synthesizer = GaussianCopulaSynthesizer(metadata)\n",
    "synthesizer.fit(df)\n",
    "\n",
    "synthetic_data = synthesizer.sample(15119)"
   ]
  },
  {
   "cell_type": "code",
   "execution_count": null,
   "id": "f4a50458-7d23-4460-90a5-afffb3a0d70f",
   "metadata": {},
   "outputs": [],
   "source": [
    "synthetic_data.to_json('synthetic_data.json', orient='records')"
   ]
  }
 ],
 "metadata": {
  "kernelspec": {
   "display_name": "Python 3 (ipykernel)",
   "language": "python",
   "name": "python3"
  },
  "language_info": {
   "codemirror_mode": {
    "name": "ipython",
    "version": 3
   },
   "file_extension": ".py",
   "mimetype": "text/x-python",
   "name": "python",
   "nbconvert_exporter": "python",
   "pygments_lexer": "ipython3",
   "version": "3.10.6"
  }
 },
 "nbformat": 4,
 "nbformat_minor": 5
}
